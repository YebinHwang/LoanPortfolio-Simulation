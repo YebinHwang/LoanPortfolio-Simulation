{
  "nbformat": 4,
  "nbformat_minor": 0,
  "metadata": {
    "colab": {
      "provenance": []
    },
    "kernelspec": {
      "name": "python3",
      "display_name": "Python 3"
    },
    "language_info": {
      "name": "python"
    }
  },
  "cells": [
    {
      "cell_type": "code",
      "source": [
        "import numpy as np\n",
        "import matplotlib.pyplot as plt\n",
        "from dateutil.relativedelta import relativedelta\n",
        "import datetime"
      ],
      "metadata": {
        "id": "KOLqjT753NtG"
      },
      "execution_count": null,
      "outputs": []
    },
    {
      "cell_type": "markdown",
      "source": [
        "Origination Date"
      ],
      "metadata": {
        "id": "7qJIERuSSvcO"
      }
    },
    {
      "cell_type": "code",
      "source": [
        "# Simulate a first of month date\n",
        "# Model business levels across years\n",
        "\n",
        "# 2005~2022\n",
        "years_orig = np.arange(2005,2023)\n",
        "temp = np.arange(1,len(years_orig))\n",
        "\n",
        "# probability\n",
        "probs = temp/sum(temp)\n",
        "probs"
      ],
      "metadata": {
        "colab": {
          "base_uri": "https://localhost:8080/"
        },
        "id": "5VqFBo4jSJK4",
        "outputId": "703af03c-f4d4-4410-9b9a-77b70cc514fc"
      },
      "execution_count": null,
      "outputs": [
        {
          "output_type": "execute_result",
          "data": {
            "text/plain": [
              "array([0.00653595, 0.0130719 , 0.01960784, 0.02614379, 0.03267974,\n",
              "       0.03921569, 0.04575163, 0.05228758, 0.05882353, 0.06535948,\n",
              "       0.07189542, 0.07843137, 0.08496732, 0.09150327, 0.09803922,\n",
              "       0.10457516, 0.11111111])"
            ]
          },
          "metadata": {},
          "execution_count": 3
        }
      ]
    },
    {
      "cell_type": "code",
      "source": [
        "sum(probs)"
      ],
      "metadata": {
        "colab": {
          "base_uri": "https://localhost:8080/"
        },
        "id": "VlYn5QpdTbVP",
        "outputId": "0ecea292-a9ea-4f6b-8c6f-13b24907ce76"
      },
      "execution_count": null,
      "outputs": [
        {
          "output_type": "execute_result",
          "data": {
            "text/plain": [
              "1.0"
            ]
          },
          "metadata": {},
          "execution_count": 4
        }
      ]
    },
    {
      "cell_type": "markdown",
      "source": [
        "Simulate Date: Monthly data"
      ],
      "metadata": {
        "id": "DY9yipARTiin"
      }
    },
    {
      "cell_type": "code",
      "source": [
        "sim_year_orig = np.random.choice(years_orig,10,probs.tolist())\n",
        "sim_year_orig"
      ],
      "metadata": {
        "colab": {
          "base_uri": "https://localhost:8080/"
        },
        "id": "1C1j01VmTxCf",
        "outputId": "2a3bfc91-5f8c-4a27-e85a-606da4da66e2"
      },
      "execution_count": null,
      "outputs": [
        {
          "output_type": "execute_result",
          "data": {
            "text/plain": [
              "array([2009, 2008, 2014, 2011, 2011, 2005, 2013, 2015, 2018, 2010])"
            ]
          },
          "metadata": {},
          "execution_count": 25
        }
      ]
    },
    {
      "cell_type": "code",
      "source": [
        "plt.hist(sim_year_orig)"
      ],
      "metadata": {
        "colab": {
          "base_uri": "https://localhost:8080/",
          "height": 338
        },
        "id": "gj-L0dGCUDw4",
        "outputId": "736dd182-63ac-4577-ceaa-8589c0748415"
      },
      "execution_count": null,
      "outputs": [
        {
          "output_type": "execute_result",
          "data": {
            "text/plain": [
              "(array([1., 0., 1., 2., 2., 0., 2., 1., 0., 1.]),\n",
              " array([2005. , 2006.3, 2007.6, 2008.9, 2010.2, 2011.5, 2012.8, 2014.1,\n",
              "        2015.4, 2016.7, 2018. ]),\n",
              " <BarContainer object of 10 artists>)"
            ]
          },
          "metadata": {},
          "execution_count": 26
        },
        {
          "output_type": "display_data",
          "data": {
            "text/plain": [
              "<Figure size 432x288 with 1 Axes>"
            ],
            "image/png": "[encoded data removed]"
          },
          "metadata": {
            "needs_background": "light"
          }
        }
      ]
    },
    {
      "cell_type": "code",
      "source": [
        "# year\n",
        "sim_year_orig = np.random.choice(years_orig,10,probs.tolist())[0]\n",
        "sim_year_orig"
      ],
      "metadata": {
        "id": "uIaWun62U5f8"
      },
      "execution_count": null,
      "outputs": []
    },
    {
      "cell_type": "code",
      "source": [
        "# month\n",
        "months_orig = np.arange(1,12+1)\n",
        "sim_month_orig = np.random.choice(months_orig,1)[0]\n",
        "\n",
        "date_orig = datetime.datetime(sim_year_orig,sim_month_orig,1).date()\n",
        "date_orig"
      ],
      "metadata": {
        "colab": {
          "base_uri": "https://localhost:8080/"
        },
        "id": "Ci3n1pifVb7Z",
        "outputId": "13a385eb-3aa6-44aa-a8e6-9078285b4f41"
      },
      "execution_count": null,
      "outputs": [
        {
          "output_type": "execute_result",
          "data": {
            "text/plain": [
              "datetime.date(2022, 1, 1)"
            ]
          },
          "metadata": {},
          "execution_count": 29
        }
      ]
    },
    {
      "cell_type": "markdown",
      "source": [
        "Term, Rate"
      ],
      "metadata": {
        "id": "bKCq_p17VyOf"
      }
    },
    {
      "cell_type": "code",
      "source": [
        "# term (months)\n",
        "\n",
        "terms = [6, 12]\n",
        "probs = [.25, .75]\n",
        "term = np.random.choice(terms,1,probs)[0]\n",
        "term"
      ],
      "metadata": {
        "id": "bOxkvGHDmhJO",
        "colab": {
          "base_uri": "https://localhost:8080/"
        },
        "outputId": "d4e79fdd-b8b9-4e60-cd4b-104c092ffe5a"
      },
      "execution_count": null,
      "outputs": [
        {
          "output_type": "execute_result",
          "data": {
            "text/plain": [
              "6"
            ]
          },
          "metadata": {},
          "execution_count": 45
        }
      ]
    },
    {
      "cell_type": "code",
      "source": [
        "# create dictionary of loan sizes, indexed by term as 'size by term'\n",
        "\n",
        "size_by_term = {\n",
        "    6:[10000, 50000],\n",
        "    12:[50000, 100000, 200000]\n",
        "}\n",
        "\n",
        "size = np.random.choice(size_by_term[term],1)[0]\n",
        "size"
      ],
      "metadata": {
        "id": "mFExjAatm25b",
        "colab": {
          "base_uri": "https://localhost:8080/"
        },
        "outputId": "1b9c902e-9b11-4afb-cf72-e2ecb7002aa7"
      },
      "execution_count": null,
      "outputs": [
        {
          "output_type": "execute_result",
          "data": {
            "text/plain": [
              "10000"
            ]
          },
          "metadata": {},
          "execution_count": 46
        }
      ]
    },
    {
      "cell_type": "code",
      "source": [
        "# rate (range: 5% ~ 40%)\n",
        "\n",
        "rate = np.random.randint(1,8+1) * .05"
      ],
      "metadata": {
        "id": "8jTBFMXQm1_h"
      },
      "execution_count": null,
      "outputs": []
    },
    {
      "cell_type": "code",
      "source": [
        "# pd at orig from rate\n",
        "\n",
        "pd_orig = rate**2\n",
        "pd_orig = rate * 2.5"
      ],
      "metadata": {
        "id": "BPVykTVhm19S"
      },
      "execution_count": null,
      "outputs": []
    },
    {
      "cell_type": "markdown",
      "source": [
        "Unpaid Principal Balance (UPB)\n",
        ": to create history\n",
        "\n",
        "* UPB\n",
        "* Status\n",
        "* Model (pd_model)"
      ],
      "metadata": {
        "id": "3ScBzUetX6ti"
      }
    },
    {
      "cell_type": "code",
      "source": [
        "# UPB by date\n",
        "# Set initial value\n",
        "\n",
        "# UPB as proportion of loan size\n",
        "\n",
        "UPB = {}\n",
        "UPB[date_orig] = 1"
      ],
      "metadata": {
        "id": "uLruP1CFm17S"
      },
      "execution_count": null,
      "outputs": []
    },
    {
      "cell_type": "code",
      "source": [
        "# status by date\n",
        "# Set initial value\n",
        "status = {}\n",
        "status[date_orig] = 'Active'"
      ],
      "metadata": {
        "id": "2H6LTWvRm13Y"
      },
      "execution_count": null,
      "outputs": []
    },
    {
      "cell_type": "code",
      "source": [
        "# pd by date\n",
        "# Set initial value\n",
        "pd_model = {}\n",
        "pd_model[date_orig] = pd_orig"
      ],
      "metadata": {
        "id": "mTX3bVbBm10p"
      },
      "execution_count": null,
      "outputs": []
    },
    {
      "cell_type": "code",
      "source": [
        "# Internal variables\n",
        "\n",
        "# Simulate whether or not default occurs using pd at orig\n",
        "delinquency = 0\n",
        "defaultYN = np.random.uniform(0,1,1)[0] < pd_orig"
      ],
      "metadata": {
        "id": "VPThR-YOm1vN"
      },
      "execution_count": null,
      "outputs": []
    },
    {
      "cell_type": "code",
      "source": [
        "# skipped\n",
        "# Print Work\n",
        "formatStr = \"{:<5} {:<15} {:<10} {:<10} {:<10} {:<10}\"\n",
        "\n",
        "print (formatStr.format('i','date','status','delq','upb','pd'))\n",
        "\n",
        "def printIt():\n",
        "  if printme:\n",
        "    print(formatStr.format(i,str(date_i),status[date_i],delinquency,round(UPB[date_i],4),round(pd_model[date_i],2)))\n"
      ],
      "metadata": {
        "id": "qRWUP9Qzm1yD",
        "colab": {
          "base_uri": "https://localhost:8080/"
        },
        "outputId": "e7c059f6-7957-4148-b190-d2ebc11cc1ba"
      },
      "execution_count": null,
      "outputs": [
        {
          "output_type": "stream",
          "name": "stdout",
          "text": [
            "i     date            status     delq       upb        pd        \n"
          ]
        }
      ]
    },
    {
      "cell_type": "markdown",
      "source": [
        "Test"
      ],
      "metadata": {
        "id": "JZFRio4PZeW3"
      }
    },
    {
      "cell_type": "code",
      "source": [
        "printme = 1"
      ],
      "metadata": {
        "id": "CVE9I9BDbTuI"
      },
      "execution_count": null,
      "outputs": []
    },
    {
      "cell_type": "code",
      "source": [
        "# Simulute History in non-default case\n",
        "# Populate upb, status, pd\n",
        "\n",
        "TEST_DEFAULT = 1\n",
        "if TEST_DEFAULT:\n",
        "  defaultYN = 0\n",
        "  print(\"Testing with defaultYN set to 0\")\n",
        "\n",
        "\n",
        "if not defaultYN:\n",
        "  for i in range(1,term+1):\n",
        "    date_i = date_orig + relativedelta(months = i)\n",
        "    # date 1 = origination date + 1 month\n",
        "\n",
        "    UPB[date_i] = 1 - i/term\n",
        "    # UPB[1] = 100% - 1/term\n",
        "\n",
        "    status[date_i] = 'Active'\n",
        "    pd_model[date_i] = pd_orig\n",
        "    \n",
        "    printIt()"
      ],
      "metadata": {
        "id": "H9FsisgouIan",
        "colab": {
          "base_uri": "https://localhost:8080/"
        },
        "outputId": "5348b981-3599-48e1-da9f-a46a652dd658"
      },
      "execution_count": null,
      "outputs": [
        {
          "output_type": "stream",
          "name": "stdout",
          "text": [
            "Testing with defaultYN set to 0\n",
            "1     2022-02-01      Active     0          0.8333     1.0       \n",
            "2     2022-03-01      Active     0          0.6667     1.0       \n",
            "3     2022-04-01      Active     0          0.5        1.0       \n",
            "4     2022-05-01      Active     0          0.3333     1.0       \n",
            "5     2022-06-01      Active     0          0.1667     1.0       \n",
            "6     2022-07-01      Active     0          0.0        1.0       \n"
          ]
        }
      ]
    },
    {
      "cell_type": "code",
      "source": [
        "# Simulute History in default case\n",
        "# Populate upb, status, pd\n",
        "\n",
        "TEST_DEFAULT = 1\n",
        "if TEST_DEFAULT:\n",
        "  defaultYN = 1\n",
        "  delinquency = 0\n",
        "  print(\"Testing with defaultYN set to 0\")\n",
        "\n",
        "if defaultYN:\n",
        "  default_time = np.random.choice(np.arange(1,term),1)[0]\n",
        "  # first period - abundant cash but as time goes, balloon payment and amortization\n",
        "\n",
        "  for i in range(1,default_time+0):        # exclude default time\n",
        "    date_i = date_orig + relativedelta(months = i)\n",
        "    UPB[date_i] = 1 - i/term\n",
        "    status[date_i] = 'Active'\n",
        "    pd_model[date_i] = pd_orig\n",
        "    printIt()\n",
        "    \n",
        "  for i in range(1,default_time+1):        # include default time\n",
        "    date_i = date_orig + relativedelta(months = i)\n",
        "    UPB[date_i] = 1 - i/term\n",
        "    delinquency += 1                       # add a new internal variable\n",
        "    status[date_i] = 'Default' + str(delinquency)\n",
        "    pd_model[date_i] = pd_orig\n",
        "    printIt()\n",
        "  \n",
        "  for i in range(default_time+1, term+1):  # default time +1 ~ till the end of the term\n",
        "    date_i = date_orig + relativedelta(months = i)\n",
        "    delinquency += 1                       \n",
        "    p_recovery = (.5 - rate)**delinquency  # probability recovery rate - it will keep decreasing towards the end of the term\n",
        "    recoverYN = np.random.uniform(0,1,1)[0] < p_recovery\n",
        "    pd_model[date_i] = pd_orig**(1/delinquency)\n",
        "\n",
        "    ## (1) If recovered\n",
        "    if recoverYN:\n",
        "      print('Recovered')\n",
        "      for i in range(i, term+1):           # term: start ~ end\n",
        "        date_i = date_orig + relativedelta(months = i)\n",
        "        UPB[date_i] = 1 - i/term\n",
        "        delinquency = 0\n",
        "        status[date_i] = 'Active'\n",
        "        pd_model[date_i] = pd_orig\n",
        "        printIt()\n",
        "      break\n",
        "\n",
        "    ## (2) If not recovered, then keep increasing delinquency\n",
        "    else: \n",
        "      UPB[date_i] = UPB[date_i + relativedelta(months = -1)]  \n",
        "      # case: unpaid balance in case the payment was not made in the previous month, UPB month2 = UPB month2-1\n",
        "      status[date_i] = 'Default' + str(delinquency)\n",
        "      if delinquency == 3:\n",
        "        status[date_i] = 'WriteOff'\n",
        "        printIt()\n",
        "        break\n",
        "\n",
        "      printIt()"
      ],
      "metadata": {
        "id": "OoN6j8uSxh7p",
        "colab": {
          "base_uri": "https://localhost:8080/"
        },
        "outputId": "31aa11bc-80a6-456d-a11d-c9f31ce06452"
      },
      "execution_count": null,
      "outputs": [
        {
          "output_type": "stream",
          "name": "stdout",
          "text": [
            "Testing with defaultYN set to 0\n",
            "1     2022-02-01      Active     0          0.8333     1.0       \n",
            "1     2022-02-01      Default1   1          0.8333     1.0       \n",
            "2     2022-03-01      Default2   2          0.6667     1.0       \n",
            "3     2022-04-01      WriteOff   3          0.6667     1.0       \n"
          ]
        }
      ]
    }
  ]
}